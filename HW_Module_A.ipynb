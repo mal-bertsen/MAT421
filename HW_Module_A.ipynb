{
  "nbformat": 4,
  "nbformat_minor": 0,
  "metadata": {
    "colab": {
      "provenance": [],
      "authorship_tag": "ABX9TyOR/m5FDgrUuuUet5HypPXG",
      "include_colab_link": true
    },
    "kernelspec": {
      "name": "python3",
      "display_name": "Python 3"
    },
    "language_info": {
      "name": "python"
    }
  },
  "cells": [
    {
      "cell_type": "markdown",
      "metadata": {
        "id": "view-in-github",
        "colab_type": "text"
      },
      "source": [
        "<a href=\"https://colab.research.google.com/github/mal-bertsen/MAT421/blob/main/HW_Module_A.ipynb\" target=\"_parent\"><img src=\"https://colab.research.google.com/assets/colab-badge.svg\" alt=\"Open In Colab\"/></a>"
      ]
    },
    {
      "cell_type": "markdown",
      "source": [
        "Base-N and Binary"
      ],
      "metadata": {
        "id": "Nv2W6Ji1udEu"
      }
    },
    {
      "cell_type": "code",
      "source": [
        "#147.3 in base 10 form (called that because it is based on 10 digits: 0-9)\n",
        "\n",
        "x=147.3\n",
        "y=1*(10**2)+4*(10**1)+7*(10**0)+3*(10**-1)\n",
        "x==y"
      ],
      "metadata": {
        "id": "RA0oMQ8tufUh",
        "colab": {
          "base_uri": "https://localhost:8080/"
        },
        "outputId": "31a528e7-5f36-4aa9-e6e9-16ceff8ec506"
      },
      "execution_count": 1,
      "outputs": [
        {
          "output_type": "execute_result",
          "data": {
            "text/plain": [
              "True"
            ]
          },
          "metadata": {},
          "execution_count": 1
        }
      ]
    },
    {
      "cell_type": "code",
      "source": [
        "#121 in base 3 (based on the digits 0-2)\n",
        "\n",
        "x=121\n",
        "y=1*(3**2)+2*(3**1)+1*(3**0)\n",
        "\n",
        "#note that this is equal to 16(base 10)\n",
        "y==16"
      ],
      "metadata": {
        "colab": {
          "base_uri": "https://localhost:8080/"
        },
        "id": "TvWvTGhWnG_a",
        "outputId": "e39517c3-875a-409f-b889-1364d443e448"
      },
      "execution_count": 2,
      "outputs": [
        {
          "output_type": "execute_result",
          "data": {
            "text/plain": [
              "True"
            ]
          },
          "metadata": {},
          "execution_count": 2
        }
      ]
    },
    {
      "cell_type": "code",
      "source": [
        "#Important!-- Base 2 is otherwise refered to as Binary numbers (using digits 0-1)\n",
        "#For example: Convert 37 (base 10) to binary\n",
        "#37=32+4+1\n",
        "x=37\n",
        "y=1*(2**5)+0*(2**4)+0*(2**3)+1*(2**2)+0*(2**1)+1*(2**0)\n",
        "x==y\n",
        "#Another example : Convert 17 (base 10) to binary\n",
        "a=17\n",
        "b=1*(2**4)+0*(2**3)+0*(2**2)+0*(2**1)+1*(2**0)\n",
        "a==b"
      ],
      "metadata": {
        "colab": {
          "base_uri": "https://localhost:8080/"
        },
        "id": "ToRNwcchpOkY",
        "outputId": "44d49b16-3858-487b-b7f3-0ef7e340a550"
      },
      "execution_count": 6,
      "outputs": [
        {
          "output_type": "execute_result",
          "data": {
            "text/plain": [
              "True"
            ]
          },
          "metadata": {},
          "execution_count": 6
        }
      ]
    },
    {
      "cell_type": "code",
      "source": [
        "#Since these binary numbers are still numbers they can be part of calculations.\n",
        "#For example: Addition (Using 37(base10) and 17(base10) from the previous block)\n",
        "x=37+17\n",
        "#37 base 10 is 100101 base 2 - 17 base 10 is 10001 base 2\n",
        "#100101+10001 = 110110 (by taking into account the fact that there are only 2 available digits)\n",
        "#110110\n",
        "y=1*(2**5)+1*(2**4)+0*(2**3)+1*(2**2)+1*(2**1)+0*(2**0)\n",
        "x==y"
      ],
      "metadata": {
        "colab": {
          "base_uri": "https://localhost:8080/"
        },
        "id": "ScCiuE7uqeK2",
        "outputId": "a756e744-a8f0-404a-8a98-9b24e40c9f16"
      },
      "execution_count": 8,
      "outputs": [
        {
          "output_type": "execute_result",
          "data": {
            "text/plain": [
              "True"
            ]
          },
          "metadata": {},
          "execution_count": 8
        }
      ]
    },
    {
      "cell_type": "code",
      "source": [
        "#Multiplicaiton as well\n",
        "x=37*17\n",
        "#100101*10001=1001110101\n",
        "#1001110101\n",
        "y=1*(2**9)+0*(2**8)+0*(2**7)+1*(2**6)+1*(2**5)+1*(2**4)+0*(2**3)+1*(2**2)+0*(2**1)+1*(2**0)\n",
        "x==y"
      ],
      "metadata": {
        "colab": {
          "base_uri": "https://localhost:8080/"
        },
        "id": "XY1jh663q4zb",
        "outputId": "1b20f5c4-224d-4cf5-9546-eee8c0697884"
      },
      "execution_count": 9,
      "outputs": [
        {
          "output_type": "execute_result",
          "data": {
            "text/plain": [
              "True"
            ]
          },
          "metadata": {},
          "execution_count": 9
        }
      ]
    },
    {
      "cell_type": "markdown",
      "source": [
        "Floating Point Numbers"
      ],
      "metadata": {
        "id": "Wc2vMnndufez"
      }
    },
    {
      "cell_type": "code",
      "source": [
        "import sys\n",
        "sys.float_info\n",
        "\n",
        "#Note: floats allocate bits to three different parts: a sign indicator, exponent - which is to the power of 2 -, and the coefficient of the exponent/the faction.\n",
        "# n = (-1)^s*(2^(e-1023))*(1+f)"
      ],
      "metadata": {
        "id": "sYo_R39BufxT",
        "colab": {
          "base_uri": "https://localhost:8080/"
        },
        "outputId": "e10ccdb7-eeab-41cc-e178-81a211285095"
      },
      "execution_count": 15,
      "outputs": [
        {
          "output_type": "execute_result",
          "data": {
            "text/plain": [
              "sys.float_info(max=1.7976931348623157e+308, max_exp=1024, max_10_exp=308, min=2.2250738585072014e-308, min_exp=-1021, min_10_exp=-307, dig=15, mant_dig=53, epsilon=2.220446049250313e-16, radix=2, rounds=1)"
            ]
          },
          "metadata": {},
          "execution_count": 15
        }
      ]
    },
    {
      "cell_type": "code",
      "source": [
        "#Note: the distance between one number and the next is called the gap and can be found using the spacing function\n",
        "import numpy as np\n",
        "np.spacing(1e9)"
      ],
      "metadata": {
        "colab": {
          "base_uri": "https://localhost:8080/"
        },
        "id": "Vdx0fl8vv0pB",
        "outputId": "8e84f48b-26db-42cf-8f83-6f47304d3188"
      },
      "execution_count": 11,
      "outputs": [
        {
          "output_type": "execute_result",
          "data": {
            "text/plain": [
              "1.1920928955078125e-07"
            ]
          },
          "metadata": {},
          "execution_count": 11
        }
      ]
    },
    {
      "cell_type": "code",
      "source": [
        "#1.19209... shows the gap at 1e9 - if a number that is less than half the gap gets added to 1e9 then the gap results in the same number.\n",
        "x=np.spacing(1e9/3)\n",
        "np.spacing(1e9+x)"
      ],
      "metadata": {
        "colab": {
          "base_uri": "https://localhost:8080/"
        },
        "id": "LbLhaPYBwnpI",
        "outputId": "cdd03461-6fa1-48f8-be1c-5f6f8d371103"
      },
      "execution_count": 12,
      "outputs": [
        {
          "output_type": "execute_result",
          "data": {
            "text/plain": [
              "1.1920928955078125e-07"
            ]
          },
          "metadata": {},
          "execution_count": 12
        }
      ]
    },
    {
      "cell_type": "code",
      "source": [
        "np.spacing(1e9)==np.spacing(1e9+np.spacing(1e9/3))"
      ],
      "metadata": {
        "colab": {
          "base_uri": "https://localhost:8080/"
        },
        "id": "VHbQCLFvwq7J",
        "outputId": "e6f758b6-45b7-4aca-8f8e-00faf3cb864e"
      },
      "execution_count": 13,
      "outputs": [
        {
          "output_type": "execute_result",
          "data": {
            "text/plain": [
              "True"
            ]
          },
          "metadata": {},
          "execution_count": 13
        }
      ]
    },
    {
      "cell_type": "code",
      "source": [
        "#Numbers that are larger than the largest representable floating point number result in overflow, and the result are assigned to 'inf'.\n",
        "sys.float_info.max"
      ],
      "metadata": {
        "colab": {
          "base_uri": "https://localhost:8080/"
        },
        "id": "BsNr3oc-yV2K",
        "outputId": "a61c1746-8675-41d1-eda2-8e5966548ef5"
      },
      "execution_count": 18,
      "outputs": [
        {
          "output_type": "execute_result",
          "data": {
            "text/plain": [
              "1.7976931348623157e+308"
            ]
          },
          "metadata": {},
          "execution_count": 18
        }
      ]
    },
    {
      "cell_type": "code",
      "source": [
        "sys.float_info.max + sys.float_info.max"
      ],
      "metadata": {
        "colab": {
          "base_uri": "https://localhost:8080/"
        },
        "id": "Drau_6G-zA78",
        "outputId": "8dc8f3d2-1f13-4e9c-ae37-d529465880ed"
      },
      "execution_count": 21,
      "outputs": [
        {
          "output_type": "execute_result",
          "data": {
            "text/plain": [
              "inf"
            ]
          },
          "metadata": {},
          "execution_count": 21
        }
      ]
    },
    {
      "cell_type": "code",
      "source": [
        "#Numbers that are smaller than the smallest subnormal number result in underflow, and the result are assigned to '0'\n",
        "sys.float_info.min"
      ],
      "metadata": {
        "colab": {
          "base_uri": "https://localhost:8080/"
        },
        "id": "LEm2tZJUy4Vj",
        "outputId": "a5bd0fd0-ee2c-4a4b-af4c-845e05a7c5c3"
      },
      "execution_count": 19,
      "outputs": [
        {
          "output_type": "execute_result",
          "data": {
            "text/plain": [
              "2.2250738585072014e-308"
            ]
          },
          "metadata": {},
          "execution_count": 19
        }
      ]
    },
    {
      "cell_type": "code",
      "source": [
        "2**(-1075)"
      ],
      "metadata": {
        "colab": {
          "base_uri": "https://localhost:8080/"
        },
        "id": "tVF3v1kUzB1M",
        "outputId": "ab8dcf5f-1484-4dcb-a5e6-de23fa318152"
      },
      "execution_count": 20,
      "outputs": [
        {
          "output_type": "execute_result",
          "data": {
            "text/plain": [
              "0.0"
            ]
          },
          "metadata": {},
          "execution_count": 20
        }
      ]
    },
    {
      "cell_type": "markdown",
      "source": [
        "Round-off Errors"
      ],
      "metadata": {
        "id": "3psVj00Wuf85"
      }
    },
    {
      "cell_type": "code",
      "source": [
        "#Note: The difference between the true value and approximation of a number used in computation is called round-off error.\n",
        "#Note: Commonly, infinite numbers like pi or 1/3 will experience what is known as a representation error\n",
        "#Example:\n",
        "#4.9 - 4.845 should be equal to 0.055 but because the floating point cannot be represented by the exact number, it is an approximation and leads to a small error.\n",
        "4.9-4.845"
      ],
      "metadata": {
        "id": "rmPL04I0uq9a",
        "colab": {
          "base_uri": "https://localhost:8080/"
        },
        "outputId": "332de5d8-ac94-4ddf-dc6c-688c92eeb2c7"
      },
      "execution_count": 22,
      "outputs": [
        {
          "output_type": "execute_result",
          "data": {
            "text/plain": [
              "0.055000000000000604"
            ]
          },
          "metadata": {},
          "execution_count": 22
        }
      ]
    },
    {
      "cell_type": "code",
      "source": [
        "0.1+0.2+0.3"
      ],
      "metadata": {
        "colab": {
          "base_uri": "https://localhost:8080/"
        },
        "id": "r7Qa5dVS1Ov9",
        "outputId": "27e7db20-37e2-458b-e3ce-f60c891e86de"
      },
      "execution_count": 23,
      "outputs": [
        {
          "output_type": "execute_result",
          "data": {
            "text/plain": [
              "0.6000000000000001"
            ]
          },
          "metadata": {},
          "execution_count": 23
        }
      ]
    },
    {
      "cell_type": "code",
      "source": [
        "0.1+0.2+0.3==0.6"
      ],
      "metadata": {
        "colab": {
          "base_uri": "https://localhost:8080/"
        },
        "id": "VfV84qgd1Rwh",
        "outputId": "77bfa9c5-4237-429f-c0a7-b903c5822940"
      },
      "execution_count": 24,
      "outputs": [
        {
          "output_type": "execute_result",
          "data": {
            "text/plain": [
              "False"
            ]
          },
          "metadata": {},
          "execution_count": 24
        }
      ]
    },
    {
      "cell_type": "code",
      "source": [
        "#These calculation errors can compound.\n",
        "#For instance, take the equation 1+(1/3)-(1/3)\n",
        "1+(1/3)-(1/3)\n",
        "#It shows the solution to be equal to 1, as intended"
      ],
      "metadata": {
        "colab": {
          "base_uri": "https://localhost:8080/"
        },
        "id": "yIJ0PQa-1UkU",
        "outputId": "d5d26c87-5302-4e05-de8b-f5d70afd93bc"
      },
      "execution_count": 25,
      "outputs": [
        {
          "output_type": "execute_result",
          "data": {
            "text/plain": [
              "1.0"
            ]
          },
          "metadata": {},
          "execution_count": 25
        }
      ]
    },
    {
      "cell_type": "code",
      "source": [
        "#Now if the expression is repeated\n",
        "def add_and_subtract(iterations):\n",
        "    result = 1\n",
        "\n",
        "    for i in range(iterations):\n",
        "        result += 1/3\n",
        "\n",
        "    for i in range(iterations):\n",
        "        result -= 1/3\n",
        "    return result\n",
        "#Perhaps 100 times\n",
        "add_and_subtract(100)\n",
        "#An error arrises"
      ],
      "metadata": {
        "colab": {
          "base_uri": "https://localhost:8080/"
        },
        "id": "7U3RQOBk1taO",
        "outputId": "4ae96a90-0d79-4147-c078-65cbf859e803"
      },
      "execution_count": 26,
      "outputs": [
        {
          "output_type": "execute_result",
          "data": {
            "text/plain": [
              "1.0000000000000002"
            ]
          },
          "metadata": {},
          "execution_count": 26
        }
      ]
    },
    {
      "cell_type": "code",
      "source": [
        "#Perhaps 10000 times.. etc..\n",
        "add_and_subtract(10000)\n",
        "#The error is magnified"
      ],
      "metadata": {
        "colab": {
          "base_uri": "https://localhost:8080/"
        },
        "id": "0sHX-sjJ1-yA",
        "outputId": "8790967a-5b8a-4c34-b2bc-959a9169f701"
      },
      "execution_count": 27,
      "outputs": [
        {
          "output_type": "execute_result",
          "data": {
            "text/plain": [
              "1.0000000000001166"
            ]
          },
          "metadata": {},
          "execution_count": 27
        }
      ]
    }
  ]
}
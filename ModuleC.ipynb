{
  "nbformat": 4,
  "nbformat_minor": 0,
  "metadata": {
    "colab": {
      "provenance": [],
      "authorship_tag": "ABX9TyPQZDO+JoiBfvQQ576/MFQz",
      "include_colab_link": true
    },
    "kernelspec": {
      "name": "python3",
      "display_name": "Python 3"
    },
    "language_info": {
      "name": "python"
    }
  },
  "cells": [
    {
      "cell_type": "markdown",
      "metadata": {
        "id": "view-in-github",
        "colab_type": "text"
      },
      "source": [
        "<a href=\"https://colab.research.google.com/github/mal-bertsen/MAT421/blob/main/ModuleC.ipynb\" target=\"_parent\"><img src=\"https://colab.research.google.com/assets/colab-badge.svg\" alt=\"Open In Colab\"/></a>"
      ]
    },
    {
      "cell_type": "markdown",
      "source": [
        "Root Finding Problem Statement"
      ],
      "metadata": {
        "id": "gls0n-9irueD"
      }
    },
    {
      "cell_type": "code",
      "execution_count": 1,
      "metadata": {
        "id": "x4oBYSFdrxdv",
        "colab": {
          "base_uri": "https://localhost:8080/"
        },
        "outputId": "b68409e6-8f4f-4950-d548-9d3d2e54aa19"
      },
      "outputs": [
        {
          "output_type": "stream",
          "name": "stdout",
          "text": [
            "r = [0.73908513]\n",
            "result= [0.]\n"
          ]
        }
      ],
      "source": [
        "#Use the following code to find the root for a function, in this case the function cos(x)-x\n",
        "\n",
        "import numpy as np\n",
        "from scipy import optimize\n",
        "\n",
        "f = lambda x: np.cos(x) - x\n",
        "r = optimize.fsolve(f, -2)\n",
        "print(\"r =\", r)\n",
        "\n",
        "# Verify the solution is a root\n",
        "result = f(r)\n",
        "print(\"result=\", result)"
      ]
    },
    {
      "cell_type": "code",
      "source": [
        "#once again, only this time the function is 1/x (a function without a root)\n",
        "\n",
        "f = lambda x: 1/x\n",
        "\n",
        "r, infodict, ier, mesg = optimize.fsolve(f, -2, full_output=True)\n",
        "print(\"r =\", r)\n",
        "\n",
        "result = f(r)\n",
        "print(\"result=\", result)\n",
        "\n",
        "print(mesg)"
      ],
      "metadata": {
        "id": "uNmlY9g4sQ6M"
      },
      "execution_count": null,
      "outputs": []
    },
    {
      "cell_type": "markdown",
      "source": [
        "Tolerance"
      ],
      "metadata": {
        "id": "onJxxhEqrvil"
      }
    },
    {
      "cell_type": "code",
      "source": [
        "#Tolerance is the amount of error that can be considered acceptable.\n",
        "#This verbage applies itself to computer applications; for instance, when we say that\n",
        "#a computer has converged to an answer, we really mean that the computer\n",
        "#has produced an answer that has an amount of error lower than the designated tolerance."
      ],
      "metadata": {
        "id": "2v7WVeGurvt_"
      },
      "execution_count": null,
      "outputs": []
    },
    {
      "cell_type": "markdown",
      "source": [
        "Bisection Method"
      ],
      "metadata": {
        "id": "TOxJUG9Frv4K"
      }
    },
    {
      "cell_type": "code",
      "source": [
        "#recall the intermediate value theorem... The bisection method uses that theorem to prove a root exists.\n",
        "#if one point is above the x axis and one below, then assuming the function is continuous,\n",
        "#by way of the IVT there exists one point on the x axis, namely a root.\n",
        "\n",
        "import numpy as np\n",
        "\n",
        "def my_bisection(f, a, b, tol):\n",
        "    # approximates a root, R, of f bounded\n",
        "    # by a and b to within tolerance\n",
        "    # | f(m) | < tol with m the midpoint\n",
        "    # between a and b Recursive implementation\n",
        "\n",
        "    # check if a and b bound a root\n",
        "    if np.sign(f(a)) == np.sign(f(b)):\n",
        "        raise Exception(\n",
        "         \"The scalars a and b do not bound a root\")\n",
        "\n",
        "    # get midpoint\n",
        "    m = (a + b)/2\n",
        "\n",
        "    if np.abs(f(m)) < tol:\n",
        "        # stopping condition, report m as root\n",
        "        return m\n",
        "    elif np.sign(f(a)) == np.sign(f(m)):\n",
        "        # case where m is an improvement on a.\n",
        "        # Make recursive call with a = m\n",
        "        return my_bisection(f, m, b, tol)\n",
        "    elif np.sign(f(b)) == np.sign(f(m)):\n",
        "        # case where m is an improvement on b.\n",
        "        # Make recursive call with b = m\n",
        "        return my_bisection(f, a, m, tol)"
      ],
      "metadata": {
        "id": "XR0-aTflrwA0"
      },
      "execution_count": 2,
      "outputs": []
    },
    {
      "cell_type": "code",
      "source": [
        "f = lambda x: x**2 - 2\n",
        "\n",
        "r1 = my_bisection(f, 0, 2, 0.1)\n",
        "print(\"r1 =\", r1)\n",
        "r01 = my_bisection(f, 0, 2, 0.01)\n",
        "print(\"r01 =\", r01)\n",
        "\n",
        "print(\"f(r1) =\", f(r1))\n",
        "print(\"f(r01) =\", f(r01))"
      ],
      "metadata": {
        "colab": {
          "base_uri": "https://localhost:8080/"
        },
        "id": "R_VrQzwotZ4g",
        "outputId": "a65a8d7d-7ceb-408e-aff2-dc737d06f246"
      },
      "execution_count": 3,
      "outputs": [
        {
          "output_type": "stream",
          "name": "stdout",
          "text": [
            "r1 = 1.4375\n",
            "r01 = 1.4140625\n",
            "f(r1) = 0.06640625\n",
            "f(r01) = -0.00042724609375\n"
          ]
        }
      ]
    },
    {
      "cell_type": "code",
      "source": [
        "#my_bisection(f, 2, 4, 0.01)\n",
        "#produces error^^\n",
        "#because a root does not exist between these two points (2 and 4), the roots of x^2-2 are at pos and neg sqrt 2"
      ],
      "metadata": {
        "id": "33qnPS0DtdGw"
      },
      "execution_count": 5,
      "outputs": []
    },
    {
      "cell_type": "markdown",
      "source": [
        "Newton-Raphson Method"
      ],
      "metadata": {
        "id": "V0RphBIjrwIK"
      }
    },
    {
      "cell_type": "code",
      "source": [
        "#Written generally, a Newton step computes an improved guess, xi, using a previous guess xi−1, and is given by the equation\n",
        "# xi= x_(i−1)_−g(x_(i−1)_) / g′(x_(i−1)_).\n",
        "#The Newton-Raphson Method of finding roots iterates Newton steps from x0\n",
        "#until the error is less than the tolerance.\n",
        "\n",
        "\n",
        "import numpy as np\n",
        "\n",
        "f = lambda x: x**2 - 2\n",
        "f_prime = lambda x: 2*x\n",
        "newton_raphson = 1.4 - (f(1.4))/(f_prime(1.4))\n",
        "\n",
        "print(\"newton_raphson =\", newton_raphson)\n",
        "print(\"sqrt(2) =\", np.sqrt(2))"
      ],
      "metadata": {
        "colab": {
          "base_uri": "https://localhost:8080/"
        },
        "id": "rc8qQt1Orwcp",
        "outputId": "40b6635e-6cf1-4ade-a92b-a2cadb69eec3"
      },
      "execution_count": 6,
      "outputs": [
        {
          "output_type": "stream",
          "name": "stdout",
          "text": [
            "newton_raphson = 1.4142857142857144\n",
            "sqrt(2) = 1.4142135623730951\n"
          ]
        }
      ]
    },
    {
      "cell_type": "code",
      "source": [
        "#the Newton-Raphson method has other serious limitations. For example, if the derivative\n",
        "#at a guess is close to 0, then the Newton step will be very large and probably lead far\n",
        "#away from the root. Also, depending on the behavior of the function derivative between\n",
        "#x0 and xr,the Newton-Raphson method may converge to a different root than xrthat may not\n",
        "#be useful for our engineering application.\n",
        "\n",
        "def my_newton(f, df, x0, tol):\n",
        "    # output is an estimation of the root of f\n",
        "    # using the Newton Raphson method\n",
        "    # recursive implementation\n",
        "    if abs(f(x0)) < tol:\n",
        "        return x0\n",
        "    else:\n",
        "        return my_newton(f, df, x0 - f(x0)/df(x0), tol)"
      ],
      "metadata": {
        "id": "Wj_6cJ57uuJn"
      },
      "execution_count": 7,
      "outputs": []
    },
    {
      "cell_type": "code",
      "source": [
        "estimate = my_newton(f, f_prime, 1.5, 1e-6)\n",
        "print(\"estimate =\", estimate)\n",
        "print(\"sqrt(2) =\", np.sqrt(2))"
      ],
      "metadata": {
        "colab": {
          "base_uri": "https://localhost:8080/"
        },
        "id": "2K9jBSuYuw_r",
        "outputId": "a1c38553-6787-4121-ca0d-0d6ea81f1c8e"
      },
      "execution_count": 8,
      "outputs": [
        {
          "output_type": "stream",
          "name": "stdout",
          "text": [
            "estimate = 1.4142135623746899\n",
            "sqrt(2) = 1.4142135623730951\n"
          ]
        }
      ]
    },
    {
      "cell_type": "code",
      "source": [
        "x0 = 0.29\n",
        "x1 = x0-(x0**3+3*x0**2-2*x0-5)/(3*x0**2+6*x0-2)\n",
        "print(\"x1 =\", x1)"
      ],
      "metadata": {
        "colab": {
          "base_uri": "https://localhost:8080/"
        },
        "id": "ZgFfvtWcuzjG",
        "outputId": "231495dc-2a4c-4a72-d737-9f10a337563d"
      },
      "execution_count": 9,
      "outputs": [
        {
          "output_type": "stream",
          "name": "stdout",
          "text": [
            "x1 = -688.4516883116648\n"
          ]
        }
      ]
    },
    {
      "cell_type": "markdown",
      "source": [
        "Root finding in python"
      ],
      "metadata": {
        "id": "r2670vW5vP2C"
      }
    },
    {
      "cell_type": "code",
      "source": [
        " #solve the roots of the function f(x)=x^3−100x^2−x+100\n",
        "\n",
        "from scipy.optimize import fsolve\n",
        "\n",
        "f = lambda x: x**3-100*x**2-x+100\n",
        "\n",
        "fsolve(f, [2, 80])"
      ],
      "metadata": {
        "colab": {
          "base_uri": "https://localhost:8080/"
        },
        "id": "nQwNDHDgvRyT",
        "outputId": "8a620a25-5362-40db-9568-1f49905cc4c4"
      },
      "execution_count": 10,
      "outputs": [
        {
          "output_type": "execute_result",
          "data": {
            "text/plain": [
              "array([  1., 100.])"
            ]
          },
          "metadata": {},
          "execution_count": 10
        }
      ]
    }
  ]
}
{
  "nbformat": 4,
  "nbformat_minor": 0,
  "metadata": {
    "colab": {
      "provenance": [],
      "authorship_tag": "ABX9TyOM7Fb+2naXZkJaAooeh8oY",
      "include_colab_link": true
    },
    "kernelspec": {
      "name": "python3",
      "display_name": "Python 3"
    },
    "language_info": {
      "name": "python"
    }
  },
  "cells": [
    {
      "cell_type": "markdown",
      "metadata": {
        "id": "view-in-github",
        "colab_type": "text"
      },
      "source": [
        "<a href=\"https://colab.research.google.com/github/mal-bertsen/MAT421/blob/main/ModuleG.ipynb\" target=\"_parent\"><img src=\"https://colab.research.google.com/assets/colab-badge.svg\" alt=\"Open In Colab\"/></a>"
      ]
    },
    {
      "cell_type": "markdown",
      "source": [
        "Numerical Integration Problem Statement"
      ],
      "metadata": {
        "id": "Dfqg61_PAhvH"
      }
    },
    {
      "cell_type": "code",
      "source": [
        "#Assume we are Given a function f(x) and we want to approximate the integral of f(x) over the total interval, [a,b]\n",
        "\n",
        "#To accomplish this goal, we assume that the interval has been discretized into a numeral grid, x, consisting of n+1 points with spacing, h=(b−a)/n\n",
        "\n",
        "#we denote each point in x by xi, where x0=a and xn=b (there are n+1 grid points because the count starts at x0)\n",
        "\n",
        "#We also assume we have a function, f(x), that can be computed for any of the grid points, or that we have been given the function implicitly as f(xi)\n",
        "#The interval [xi,xi+1] is referred to as a subinterval."
      ],
      "metadata": {
        "id": "h15E3-9wAjBE"
      },
      "execution_count": 1,
      "outputs": []
    },
    {
      "cell_type": "markdown",
      "source": [
        "Riemann’s Integral"
      ],
      "metadata": {
        "id": "NChPVxEWAjIy"
      }
    },
    {
      "cell_type": "code",
      "source": [
        "#The following methods uses a collection of rectangles to find the area below the curve.\n",
        "#Each rectangle's area is calculated by multiplying the width (x_i+1 - x_i = h) by the height\n",
        "#(a predetermined, constant place in the subinterval) (it may be the middle of the subinterval, or one of the two edges)\n",
        "#assuming the top of the rectangle starts at the leftmost point\n",
        "#∫[a,b]f(x)dx≈∑(i=0)(n−1)hf(xi)\n",
        "#or the rightmost point\n",
        "#∫[a,b]f(x)dx≈∑(i=1)(n)hf(xi)"
      ],
      "metadata": {
        "id": "VPJabA1QF1q5"
      },
      "execution_count": 2,
      "outputs": []
    },
    {
      "cell_type": "code",
      "source": [
        "import numpy as np\n",
        "\n",
        "a = 0\n",
        "b = np.pi\n",
        "n = 11\n",
        "h = (b - a) / (n - 1)\n",
        "x = np.linspace(a, b, n)\n",
        "f = np.sin(x)\n",
        "\n",
        "I_riemannL = h * sum(f[:n-1])\n",
        "err_riemannL = 2 - I_riemannL\n",
        "\n",
        "I_riemannR = h * sum(f[1::])\n",
        "err_riemannR = 2 - I_riemannR\n",
        "\n",
        "I_mid = h * sum(np.sin((x[:n-1] \\\n",
        "        + x[1:])/2))\n",
        "err_mid = 2 - I_mid\n",
        "\n",
        "print(I_riemannL)\n",
        "print(err_riemannL)\n",
        "\n",
        "print(I_riemannR)\n",
        "print(err_riemannR)\n",
        "\n",
        "print(I_mid)\n",
        "print(err_mid)"
      ],
      "metadata": {
        "colab": {
          "base_uri": "https://localhost:8080/"
        },
        "id": "7xHSSyvLAlIg",
        "outputId": "1db66be9-66e4-4848-e881-e67f15ca2536"
      },
      "execution_count": 3,
      "outputs": [
        {
          "output_type": "stream",
          "name": "stdout",
          "text": [
            "1.9835235375094546\n",
            "0.01647646249054535\n",
            "1.9835235375094546\n",
            "0.01647646249054535\n",
            "2.0082484079079745\n",
            "-0.008248407907974542\n"
          ]
        }
      ]
    },
    {
      "cell_type": "markdown",
      "source": [
        "Trapezoid Rule"
      ],
      "metadata": {
        "id": "ZDsYWnlmAlQ9"
      }
    },
    {
      "cell_type": "code",
      "source": [
        "#The Trapezoid Rule fits a trapezoid into each subinterval and sums the areas of the trapezoid to approximate the total integral.\n",
        "#Each of the trapezoids are fit into the subintervals by aligning the top leftmost point of the trapezoid with the height of the graph at the leftmost part of the fucntion\n",
        "#then, similarly on the right side. The trapezoid's top right point is aligned with where the graph meets with the right edge of the subinterval\n",
        "\n",
        "#Thus, the Trapezoid Rule approximates integrals according to the expression\n",
        "#∫[a,b]f(x)dx≈∑(i=0)(n−1)hf(xi)+f(xi+1)2."
      ],
      "metadata": {
        "id": "SFd0_pRHIQLu"
      },
      "execution_count": 4,
      "outputs": []
    },
    {
      "cell_type": "code",
      "source": [
        "import numpy as np\n",
        "\n",
        "a = 0\n",
        "b = np.pi\n",
        "n = 11\n",
        "h = (b - a) / (n - 1)\n",
        "x = np.linspace(a, b, n)\n",
        "f = np.sin(x)\n",
        "\n",
        "I_trap = (h/2)*(f[0] + \\\n",
        "          2 * sum(f[1:n-1]) + f[n-1])\n",
        "err_trap = 2 - I_trap\n",
        "\n",
        "print(I_trap)\n",
        "print(err_trap)"
      ],
      "metadata": {
        "colab": {
          "base_uri": "https://localhost:8080/"
        },
        "id": "E9vlq_luAmZX",
        "outputId": "355ab2c4-ca73-4b0a-f2f8-3958595f4199"
      },
      "execution_count": 5,
      "outputs": [
        {
          "output_type": "stream",
          "name": "stdout",
          "text": [
            "1.9835235375094546\n",
            "0.01647646249054535\n"
          ]
        }
      ]
    }
  ]
}